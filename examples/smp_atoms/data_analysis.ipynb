{
 "cells": [
  {
   "cell_type": "code",
   "execution_count": 1,
   "metadata": {},
   "outputs": [],
   "source": [
    "import h5py\n",
    "import numpy as np\n",
    "import pandas as pd\n",
    "from pandas_profiling import ProfileReport"
   ]
  },
  {
   "cell_type": "code",
   "execution_count": 93,
   "metadata": {},
   "outputs": [
    {
     "name": "stdout",
     "output_type": "stream",
     "text": [
      "<KeysViewHDF5 ['atoms_number', 'atoms_residue', 'atoms_type', 'frames_bSASA', 'frames_distance', 'frames_interaction_energy', 'frames_rmsd_ligand', 'molecules_begin_atom_index', 'trajectory_coordinates']>\n",
      "<HDF5 dataset \"atoms_number\": shape (6600,), type \"<i8\">\n",
      "<HDF5 dataset \"atoms_residue\": shape (6600,), type \"<i8\">\n",
      "<HDF5 dataset \"atoms_type\": shape (6600,), type \"<i8\">\n",
      "<HDF5 dataset \"frames_bSASA\": shape (100,), type \"<f8\">\n",
      "<HDF5 dataset \"trajectory_coordinates\": shape (100, 6600, 3), type \"<f8\">\n",
      "<HDF5 dataset \"molecules_begin_atom_index\": shape (3,), type \"<i8\">\n"
     ]
    }
   ],
   "source": [
    "with h5py.File('/p/home/jusers/benassou1/juwels/hai_drug_qm/MD_dataset_mapped.hdf5', 'r') as f: \n",
    "    print(f[\"11gs\"].keys())\n",
    "    print(f[\"11gs\"][\"atoms_number\"])\n",
    "    print(f[\"11gs\"][\"atoms_residue\"])\n",
    "    print(f[\"11gs\"][\"atoms_type\"])\n",
    "    print(f[\"11gs\"][\"frames_bSASA\"])\n",
    "    print(f[\"11gs\"][\"trajectory_coordinates\"])\n",
    "    print(f[\"11gs\"][\"molecules_begin_atom_index\"])\n",
    "    # X = [key for key in f.keys()]\n",
    "    "
   ]
  },
  {
   "cell_type": "code",
   "execution_count": 86,
   "metadata": {},
   "outputs": [
    {
     "data": {
      "text/plain": [
       "['11gs',\n",
       " '13gs',\n",
       " '16pk',\n",
       " '184l',\n",
       " '185l',\n",
       " '186l',\n",
       " '187l',\n",
       " '188l',\n",
       " '1a07',\n",
       " '1a08']"
      ]
     },
     "execution_count": 86,
     "metadata": {},
     "output_type": "execute_result"
    }
   ],
   "source": [
    "X[:10]"
   ]
  },
  {
   "cell_type": "code",
   "execution_count": 78,
   "metadata": {},
   "outputs": [],
   "source": [
    "stats = pd.DataFrame()\n",
    "\n",
    "with h5py.File('/p/home/jusers/benassou1/juwels/hai_drug_qm/atom3d/examples/smp_mol/data/qm/aeneas/h5/qm.hdf5', 'r') as f: \n",
    "\n",
    "    X = [key for key in f.keys()]\n",
    "    \n",
    "    molstat = []\n",
    "    for x in X:\n",
    "        vals = f[x][\"mol_properties/data\"][1:6] \n",
    "        tmp = [x]\n",
    "        tmp.extend(list(vals))\n",
    "        molstat.append(tmp)\n",
    "       \n",
    "       \n",
    "       \n",
    "    "
   ]
  },
  {
   "cell_type": "code",
   "execution_count": 79,
   "metadata": {},
   "outputs": [],
   "source": [
    "stats = stats.append(molstat)\n",
    "stats.columns = [\"pdbid\", \"Electron_Affinity\", \"Electronegativity\", \"Hardness\", \"Ionization_Potential\", \"Koopman\"]"
   ]
  },
  {
   "cell_type": "code",
   "execution_count": 80,
   "metadata": {},
   "outputs": [],
   "source": [
    "stats.loc[stats[\"Electron_Affinity\"] < -100,\"Electron_Affinity\" ] = -100\n",
    "stats.loc[stats[\"Electronegativity\"] < -200,\"Electronegativity\" ] = -200\n",
    "stats.loc[stats[\"Hardness\"] > 100,\"Hardness\" ] = 100\n",
    "stats.loc[stats[\"Koopman\"] > 10000,\"Koopman\" ] = 10000\n",
    "stats.loc[stats[\"Koopman\"] < -10000,\"Koopman\" ] = -10000"
   ]
  },
  {
   "cell_type": "code",
   "execution_count": 81,
   "metadata": {},
   "outputs": [
    {
     "data": {
      "text/html": [
       "<div>\n",
       "<style scoped>\n",
       "    .dataframe tbody tr th:only-of-type {\n",
       "        vertical-align: middle;\n",
       "    }\n",
       "\n",
       "    .dataframe tbody tr th {\n",
       "        vertical-align: top;\n",
       "    }\n",
       "\n",
       "    .dataframe thead th {\n",
       "        text-align: right;\n",
       "    }\n",
       "</style>\n",
       "<table border=\"1\" class=\"dataframe\">\n",
       "  <thead>\n",
       "    <tr style=\"text-align: right;\">\n",
       "      <th></th>\n",
       "      <th>Electron_Affinity</th>\n",
       "      <th>Electronegativity</th>\n",
       "      <th>Hardness</th>\n",
       "      <th>Ionization_Potential</th>\n",
       "      <th>Koopman</th>\n",
       "    </tr>\n",
       "  </thead>\n",
       "  <tbody>\n",
       "    <tr>\n",
       "      <th>count</th>\n",
       "      <td>19417.000000</td>\n",
       "      <td>19417.000000</td>\n",
       "      <td>19417.000000</td>\n",
       "      <td>19417.000000</td>\n",
       "      <td>19417.000000</td>\n",
       "    </tr>\n",
       "    <tr>\n",
       "      <th>mean</th>\n",
       "      <td>6.374203</td>\n",
       "      <td>8.384419</td>\n",
       "      <td>2.160523</td>\n",
       "      <td>10.617773</td>\n",
       "      <td>7.338508</td>\n",
       "    </tr>\n",
       "    <tr>\n",
       "      <th>std</th>\n",
       "      <td>3.408874</td>\n",
       "      <td>5.533381</td>\n",
       "      <td>2.958306</td>\n",
       "      <td>0.530122</td>\n",
       "      <td>178.819199</td>\n",
       "    </tr>\n",
       "    <tr>\n",
       "      <th>min</th>\n",
       "      <td>-100.000000</td>\n",
       "      <td>-200.000000</td>\n",
       "      <td>-1.027100</td>\n",
       "      <td>5.620800</td>\n",
       "      <td>-10000.000000</td>\n",
       "    </tr>\n",
       "    <tr>\n",
       "      <th>25%</th>\n",
       "      <td>6.116100</td>\n",
       "      <td>8.238900</td>\n",
       "      <td>1.711600</td>\n",
       "      <td>10.281400</td>\n",
       "      <td>8.833600</td>\n",
       "    </tr>\n",
       "    <tr>\n",
       "      <th>50%</th>\n",
       "      <td>6.630000</td>\n",
       "      <td>8.571500</td>\n",
       "      <td>1.955500</td>\n",
       "      <td>10.593900</td>\n",
       "      <td>9.291400</td>\n",
       "    </tr>\n",
       "    <tr>\n",
       "      <th>75%</th>\n",
       "      <td>7.132400</td>\n",
       "      <td>8.935900</td>\n",
       "      <td>2.258900</td>\n",
       "      <td>10.925400</td>\n",
       "      <td>9.674700</td>\n",
       "    </tr>\n",
       "    <tr>\n",
       "      <th>max</th>\n",
       "      <td>11.756600</td>\n",
       "      <td>12.035700</td>\n",
       "      <td>100.000000</td>\n",
       "      <td>14.599000</td>\n",
       "      <td>10000.000000</td>\n",
       "    </tr>\n",
       "  </tbody>\n",
       "</table>\n",
       "</div>"
      ],
      "text/plain": [
       "       Electron_Affinity  Electronegativity      Hardness  \\\n",
       "count       19417.000000       19417.000000  19417.000000   \n",
       "mean            6.374203           8.384419      2.160523   \n",
       "std             3.408874           5.533381      2.958306   \n",
       "min          -100.000000        -200.000000     -1.027100   \n",
       "25%             6.116100           8.238900      1.711600   \n",
       "50%             6.630000           8.571500      1.955500   \n",
       "75%             7.132400           8.935900      2.258900   \n",
       "max            11.756600          12.035700    100.000000   \n",
       "\n",
       "       Ionization_Potential       Koopman  \n",
       "count          19417.000000  19417.000000  \n",
       "mean              10.617773      7.338508  \n",
       "std                0.530122    178.819199  \n",
       "min                5.620800 -10000.000000  \n",
       "25%               10.281400      8.833600  \n",
       "50%               10.593900      9.291400  \n",
       "75%               10.925400      9.674700  \n",
       "max               14.599000  10000.000000  "
      ]
     },
     "execution_count": 81,
     "metadata": {},
     "output_type": "execute_result"
    }
   ],
   "source": [
    "stats.describe()"
   ]
  },
  {
   "cell_type": "code",
   "execution_count": 82,
   "metadata": {},
   "outputs": [],
   "source": [
    "profile = ProfileReport(pd.DataFrame(stats[[\"Electron_Affinity\", \"Electronegativity\",  \"Hardness\", \"Ionization_Potential\", \"Koopman\"]]), title=\"Pandas Profiling Report\")"
   ]
  },
  {
   "cell_type": "code",
   "execution_count": 83,
   "metadata": {},
   "outputs": [
    {
     "data": {
      "application/vnd.jupyter.widget-view+json": {
       "model_id": "8d686e78f74049babf629c8610c12212",
       "version_major": 2,
       "version_minor": 0
      },
      "text/plain": [
       "Summarize dataset:   0%|          | 0/5 [00:00<?, ?it/s]"
      ]
     },
     "metadata": {},
     "output_type": "display_data"
    },
    {
     "data": {
      "application/vnd.jupyter.widget-view+json": {
       "model_id": "5a332fce4a184917830f8e9deefc4e98",
       "version_major": 2,
       "version_minor": 0
      },
      "text/plain": [
       "Generate report structure:   0%|          | 0/1 [00:00<?, ?it/s]"
      ]
     },
     "metadata": {},
     "output_type": "display_data"
    },
    {
     "data": {
      "application/vnd.jupyter.widget-view+json": {
       "model_id": "1a1a5a66ddfb449a9bf772f03ee9e675",
       "version_major": 2,
       "version_minor": 0
      },
      "text/plain": [
       "Render widgets:   0%|          | 0/1 [00:00<?, ?it/s]"
      ]
     },
     "metadata": {},
     "output_type": "display_data"
    },
    {
     "data": {
      "application/vnd.jupyter.widget-view+json": {
       "model_id": "a9d86fea56cb4e168f6315e4f69181ed",
       "version_major": 2,
       "version_minor": 0
      },
      "text/plain": [
       "VBox(children=(Tab(children=(Tab(children=(GridBox(children=(VBox(children=(GridspecLayout(children=(HTML(valu…"
      ]
     },
     "metadata": {},
     "output_type": "display_data"
    }
   ],
   "source": [
    "profile.to_widgets()"
   ]
  },
  {
   "cell_type": "code",
   "execution_count": null,
   "metadata": {},
   "outputs": [],
   "source": []
  }
 ],
 "metadata": {
  "kernelspec": {
   "display_name": "sc_venv_template",
   "language": "python",
   "name": "sc_venv_template"
  },
  "orig_nbformat": 4,
  "vscode": {
   "interpreter": {
    "hash": "916dbcbb3f70747c44a77c7bcd40155683ae19c65e1c03b4aa3499c5328201f1"
   }
  }
 },
 "nbformat": 4,
 "nbformat_minor": 2
}
