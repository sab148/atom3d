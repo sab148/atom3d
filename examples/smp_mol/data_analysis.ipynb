{
 "cells": [
  {
   "cell_type": "code",
   "execution_count": 1,
   "metadata": {},
   "outputs": [],
   "source": [
    "import h5py\n",
    "import numpy as np\n",
    "import pandas as pd\n",
    "from pandas_profiling import ProfileReport"
   ]
  },
  {
   "cell_type": "code",
   "execution_count": 7,
   "metadata": {},
   "outputs": [],
   "source": [
    "mol_prop = pd.read_csv(\"/p/project/hai_drug_qm/Dataset/aeneas/DB/molprop.csv\", sep=';')\n",
    "mol_prop_head = [\"pdbid\",  \"total_charge\", \"Electron_Affinity\", \"Electronegativity\", \"Hardness\", \"Ionization_Potential\", \"Koopman\", \"MW\", \"Polarisability\"]\n",
    "mol_prop.columns = [\"pdbid\",  \"total_charge\", \"Electron_Affinity\", \"Electronegativity\", \"Hardness\", \"Ionization_Potential\", \"Koopman\", \"MW\", \"Polarisability\"]\n"
   ]
  },
  {
   "cell_type": "code",
   "execution_count": 10,
   "metadata": {},
   "outputs": [
    {
     "data": {
      "application/vnd.jupyter.widget-view+json": {
       "model_id": "de6d24c639bd46e39a38e40da99be771",
       "version_major": 2,
       "version_minor": 0
      },
      "text/plain": [
       "Summarize dataset:   0%|          | 0/5 [00:00<?, ?it/s]"
      ]
     },
     "metadata": {},
     "output_type": "display_data"
    },
    {
     "data": {
      "application/vnd.jupyter.widget-view+json": {
       "model_id": "c5342681c0454a16b8b7b45c2fba8fce",
       "version_major": 2,
       "version_minor": 0
      },
      "text/plain": [
       "Generate report structure:   0%|          | 0/1 [00:00<?, ?it/s]"
      ]
     },
     "metadata": {},
     "output_type": "display_data"
    },
    {
     "data": {
      "application/vnd.jupyter.widget-view+json": {
       "model_id": "f630e26fcdbb4e549786a13adddce13e",
       "version_major": 2,
       "version_minor": 0
      },
      "text/plain": [
       "Render widgets:   0%|          | 0/1 [00:00<?, ?it/s]"
      ]
     },
     "metadata": {},
     "output_type": "display_data"
    },
    {
     "data": {
      "application/vnd.jupyter.widget-view+json": {
       "model_id": "dadd657827b44ef98b802896275869b9",
       "version_major": 2,
       "version_minor": 0
      },
      "text/plain": [
       "VBox(children=(Tab(children=(Tab(children=(GridBox(children=(VBox(children=(GridspecLayout(children=(HTML(valu…"
      ]
     },
     "metadata": {},
     "output_type": "display_data"
    }
   ],
   "source": [
    "mol_prop\n",
    "profile = ProfileReport(pd.DataFrame(mol_prop[[\"Electron_Affinity\", \"Electronegativity\",  \"Hardness\", \"Ionization_Potential\"]]), title=\"Pandas Profiling Report\")\n",
    "profile.to_widgets()"
   ]
  },
  {
   "cell_type": "code",
   "execution_count": 7,
   "metadata": {},
   "outputs": [
    {
     "name": "stdout",
     "output_type": "stream",
     "text": [
      "<KeysViewHDF5 ['atoms_number', 'atoms_residue', 'atoms_type', 'frames_bSASA', 'frames_distance', 'frames_interaction_energy', 'frames_rmsd_ligand', 'molecules_begin_atom_index', 'trajectory_coordinates']>\n",
      "[7 1 1 ... 1 1 1]\n"
     ]
    }
   ],
   "source": [
    "with h5py.File('/p/project/hai_drug_qm/atom3d/examples/lba_md/data/MD_dataset_mapped.hdf5', 'r') as f: \n",
    "    \n",
    "    print(f[\"11gs\"].keys())\n",
    "    print(f[\"11gs\"][\"atoms_number\"][:])\n",
    "    x = f[\"11gs\"][\"atoms_number\"][:]\n",
    "    # print(f[\"11gs\"][\"atoms_residue\"])\n",
    "    # print(f[\"11gs\"][\"atoms_type\"])\n",
    "    # print(f[\"11gs\"][\"frames_bSASA\"])\n",
    "    # print(f[\"11gs\"][\"trajectory_coordinates\"])\n",
    "    # print(f[\"11gs\"][\"molecules_begin_atom_index\"])\n",
    "    #  X = [key for key in f.keys()]\n",
    "    "
   ]
  },
  {
   "cell_type": "code",
   "execution_count": 9,
   "metadata": {},
   "outputs": [
    {
     "data": {
      "application/vnd.jupyter.widget-view+json": {
       "model_id": "e672954fa4cd444299df81b4552c7254",
       "version_major": 2,
       "version_minor": 0
      },
      "text/plain": [
       "Summarize dataset:   0%|          | 0/5 [00:00<?, ?it/s]"
      ]
     },
     "metadata": {},
     "output_type": "display_data"
    },
    {
     "data": {
      "application/vnd.jupyter.widget-view+json": {
       "model_id": "34895aec870a4dbeb469db988522bf75",
       "version_major": 2,
       "version_minor": 0
      },
      "text/plain": [
       "Generate report structure:   0%|          | 0/1 [00:00<?, ?it/s]"
      ]
     },
     "metadata": {},
     "output_type": "display_data"
    },
    {
     "data": {
      "application/vnd.jupyter.widget-view+json": {
       "model_id": "fe1abf018bd841a19ab104f8f4898255",
       "version_major": 2,
       "version_minor": 0
      },
      "text/plain": [
       "Render widgets:   0%|          | 0/1 [00:00<?, ?it/s]"
      ]
     },
     "metadata": {},
     "output_type": "display_data"
    },
    {
     "data": {
      "application/vnd.jupyter.widget-view+json": {
       "model_id": "deb51fcf7efb492da7aeae225c954ca2",
       "version_major": 2,
       "version_minor": 0
      },
      "text/plain": [
       "VBox(children=(Tab(children=(Tab(children=(GridBox(children=(VBox(children=(GridspecLayout(children=(HTML(valu…"
      ]
     },
     "metadata": {},
     "output_type": "display_data"
    }
   ],
   "source": [
    "profile = ProfileReport(pd.DataFrame(x), title=\"Pandas Profiling Report\")\n",
    "profile.to_widgets()"
   ]
  },
  {
   "cell_type": "code",
   "execution_count": 78,
   "metadata": {},
   "outputs": [],
   "source": [
    "stats = pd.DataFrame()\n",
    "\n",
    "with h5py.File('/p/home/jusers/benassou1/juwels/hai_drug_qm/atom3d/examples/smp_mol/data/qm/aeneas/h5/qm.hdf5', 'r') as f: \n",
    "\n",
    "    X = [key for key in f.keys()]\n",
    "    \n",
    "    molstat = []\n",
    "    for x in X:\n",
    "        vals = f[x][\"mol_properties/data\"][1:6] \n",
    "        tmp = [x]\n",
    "        tmp.extend(list(vals))\n",
    "        molstat.append(tmp)\n",
    "       \n",
    "       \n",
    "       \n",
    "    "
   ]
  },
  {
   "cell_type": "code",
   "execution_count": 79,
   "metadata": {},
   "outputs": [],
   "source": [
    "stats = stats.append(molstat)\n",
    "stats.columns = [\"pdbid\", \"Electron_Affinity\", \"Electronegativity\", \"Hardness\", \"Ionization_Potential\", \"Koopman\"]"
   ]
  },
  {
   "cell_type": "code",
   "execution_count": 80,
   "metadata": {},
   "outputs": [],
   "source": [
    "stats.loc[stats[\"Electron_Affinity\"] < -100,\"Electron_Affinity\" ] = -100\n",
    "stats.loc[stats[\"Electronegativity\"] < -200,\"Electronegativity\" ] = -200\n",
    "stats.loc[stats[\"Hardness\"] > 100,\"Hardness\" ] = 100\n",
    "stats.loc[stats[\"Koopman\"] > 10000,\"Koopman\" ] = 10000\n",
    "stats.loc[stats[\"Koopman\"] < -10000,\"Koopman\" ] = -10000"
   ]
  },
  {
   "cell_type": "code",
   "execution_count": 81,
   "metadata": {},
   "outputs": [
    {
     "data": {
      "text/html": [
       "<div>\n",
       "<style scoped>\n",
       "    .dataframe tbody tr th:only-of-type {\n",
       "        vertical-align: middle;\n",
       "    }\n",
       "\n",
       "    .dataframe tbody tr th {\n",
       "        vertical-align: top;\n",
       "    }\n",
       "\n",
       "    .dataframe thead th {\n",
       "        text-align: right;\n",
       "    }\n",
       "</style>\n",
       "<table border=\"1\" class=\"dataframe\">\n",
       "  <thead>\n",
       "    <tr style=\"text-align: right;\">\n",
       "      <th></th>\n",
       "      <th>Electron_Affinity</th>\n",
       "      <th>Electronegativity</th>\n",
       "      <th>Hardness</th>\n",
       "      <th>Ionization_Potential</th>\n",
       "      <th>Koopman</th>\n",
       "    </tr>\n",
       "  </thead>\n",
       "  <tbody>\n",
       "    <tr>\n",
       "      <th>count</th>\n",
       "      <td>19417.000000</td>\n",
       "      <td>19417.000000</td>\n",
       "      <td>19417.000000</td>\n",
       "      <td>19417.000000</td>\n",
       "      <td>19417.000000</td>\n",
       "    </tr>\n",
       "    <tr>\n",
       "      <th>mean</th>\n",
       "      <td>6.374203</td>\n",
       "      <td>8.384419</td>\n",
       "      <td>2.160523</td>\n",
       "      <td>10.617773</td>\n",
       "      <td>7.338508</td>\n",
       "    </tr>\n",
       "    <tr>\n",
       "      <th>std</th>\n",
       "      <td>3.408874</td>\n",
       "      <td>5.533381</td>\n",
       "      <td>2.958306</td>\n",
       "      <td>0.530122</td>\n",
       "      <td>178.819199</td>\n",
       "    </tr>\n",
       "    <tr>\n",
       "      <th>min</th>\n",
       "      <td>-100.000000</td>\n",
       "      <td>-200.000000</td>\n",
       "      <td>-1.027100</td>\n",
       "      <td>5.620800</td>\n",
       "      <td>-10000.000000</td>\n",
       "    </tr>\n",
       "    <tr>\n",
       "      <th>25%</th>\n",
       "      <td>6.116100</td>\n",
       "      <td>8.238900</td>\n",
       "      <td>1.711600</td>\n",
       "      <td>10.281400</td>\n",
       "      <td>8.833600</td>\n",
       "    </tr>\n",
       "    <tr>\n",
       "      <th>50%</th>\n",
       "      <td>6.630000</td>\n",
       "      <td>8.571500</td>\n",
       "      <td>1.955500</td>\n",
       "      <td>10.593900</td>\n",
       "      <td>9.291400</td>\n",
       "    </tr>\n",
       "    <tr>\n",
       "      <th>75%</th>\n",
       "      <td>7.132400</td>\n",
       "      <td>8.935900</td>\n",
       "      <td>2.258900</td>\n",
       "      <td>10.925400</td>\n",
       "      <td>9.674700</td>\n",
       "    </tr>\n",
       "    <tr>\n",
       "      <th>max</th>\n",
       "      <td>11.756600</td>\n",
       "      <td>12.035700</td>\n",
       "      <td>100.000000</td>\n",
       "      <td>14.599000</td>\n",
       "      <td>10000.000000</td>\n",
       "    </tr>\n",
       "  </tbody>\n",
       "</table>\n",
       "</div>"
      ],
      "text/plain": [
       "       Electron_Affinity  Electronegativity      Hardness  \\\n",
       "count       19417.000000       19417.000000  19417.000000   \n",
       "mean            6.374203           8.384419      2.160523   \n",
       "std             3.408874           5.533381      2.958306   \n",
       "min          -100.000000        -200.000000     -1.027100   \n",
       "25%             6.116100           8.238900      1.711600   \n",
       "50%             6.630000           8.571500      1.955500   \n",
       "75%             7.132400           8.935900      2.258900   \n",
       "max            11.756600          12.035700    100.000000   \n",
       "\n",
       "       Ionization_Potential       Koopman  \n",
       "count          19417.000000  19417.000000  \n",
       "mean              10.617773      7.338508  \n",
       "std                0.530122    178.819199  \n",
       "min                5.620800 -10000.000000  \n",
       "25%               10.281400      8.833600  \n",
       "50%               10.593900      9.291400  \n",
       "75%               10.925400      9.674700  \n",
       "max               14.599000  10000.000000  "
      ]
     },
     "execution_count": 81,
     "metadata": {},
     "output_type": "execute_result"
    }
   ],
   "source": [
    "stats.describe()"
   ]
  },
  {
   "cell_type": "code",
   "execution_count": 82,
   "metadata": {},
   "outputs": [],
   "source": []
  },
  {
   "cell_type": "code",
   "execution_count": 83,
   "metadata": {},
   "outputs": [
    {
     "data": {
      "application/vnd.jupyter.widget-view+json": {
       "model_id": "8d686e78f74049babf629c8610c12212",
       "version_major": 2,
       "version_minor": 0
      },
      "text/plain": [
       "Summarize dataset:   0%|          | 0/5 [00:00<?, ?it/s]"
      ]
     },
     "metadata": {},
     "output_type": "display_data"
    },
    {
     "data": {
      "application/vnd.jupyter.widget-view+json": {
       "model_id": "5a332fce4a184917830f8e9deefc4e98",
       "version_major": 2,
       "version_minor": 0
      },
      "text/plain": [
       "Generate report structure:   0%|          | 0/1 [00:00<?, ?it/s]"
      ]
     },
     "metadata": {},
     "output_type": "display_data"
    },
    {
     "data": {
      "application/vnd.jupyter.widget-view+json": {
       "model_id": "1a1a5a66ddfb449a9bf772f03ee9e675",
       "version_major": 2,
       "version_minor": 0
      },
      "text/plain": [
       "Render widgets:   0%|          | 0/1 [00:00<?, ?it/s]"
      ]
     },
     "metadata": {},
     "output_type": "display_data"
    },
    {
     "data": {
      "application/vnd.jupyter.widget-view+json": {
       "model_id": "a9d86fea56cb4e168f6315e4f69181ed",
       "version_major": 2,
       "version_minor": 0
      },
      "text/plain": [
       "VBox(children=(Tab(children=(Tab(children=(GridBox(children=(VBox(children=(GridspecLayout(children=(HTML(valu…"
      ]
     },
     "metadata": {},
     "output_type": "display_data"
    }
   ],
   "source": []
  },
  {
   "cell_type": "code",
   "execution_count": null,
   "metadata": {},
   "outputs": [],
   "source": []
  }
 ],
 "metadata": {
  "kernelspec": {
   "display_name": "sc_venv_template",
   "language": "python",
   "name": "sc_venv_template"
  },
  "orig_nbformat": 4,
  "vscode": {
   "interpreter": {
    "hash": "916dbcbb3f70747c44a77c7bcd40155683ae19c65e1c03b4aa3499c5328201f1"
   }
  }
 },
 "nbformat": 4,
 "nbformat_minor": 2
}
